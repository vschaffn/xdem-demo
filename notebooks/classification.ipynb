{
 "cells": [
  {
   "cell_type": "markdown",
   "id": "8da1cb53-66ca-447c-84f3-0eda694e7355",
   "metadata": {},
   "source": [
    "# xDEM Classification Tutorial"
   ]
  },
  {
   "cell_type": "markdown",
   "id": "8bc101f1-53a1-44da-8f9a-a4eb8309a50f",
   "metadata": {},
   "source": [
    "This notebook demonstrates the use of the `xdem` package for terrain analysis, focusing on key operations such as visualization, classification, masking, and terrain metric calculations. Digital Elevation Models (DEMs) offer detailed representations of Earth's surface, and with the tools available in the `xdem` package, it is possible to analyze and derive various topographic attributes. By combining terrain attributes such as slope and roughness with classification techniques and mask application, we can conduct more targeted analyses on specific regions of interest. The goal of this notebook is to showcase the capabilities of `xdem` for both visual and statistical exploration of terrain data."
   ]
  },
  {
   "cell_type": "code",
   "execution_count": null,
   "id": "4fa97cce-048e-4ab1-a365-ab93544e6e94",
   "metadata": {},
   "outputs": [],
   "source": [
    "import xdem\n",
    "import geoutils as gu\n",
    "import numpy as np\n",
    "import matplotlib.pyplot as plt\n",
    "from matplotlib.colors import ListedColormap"
   ]
  },
  {
   "cell_type": "code",
   "execution_count": null,
   "id": "4c507ecb-d0c4-46fe-869c-0d0a5b18f27d",
   "metadata": {},
   "outputs": [],
   "source": [
    "# Load the DEM using xdem\n",
    "dem = xdem.DEM(xdem.examples.get_path(\"longyearbyen_ref_dem\"))\n",
    "\n",
    "# Print DEM informations\n",
    "dem.info()"
   ]
  },
  {
   "cell_type": "code",
   "execution_count": null,
   "id": "fb534e15-635c-4d85-8f2b-3df6b17acacc",
   "metadata": {},
   "outputs": [],
   "source": [
    "# Plot the DEM\n",
    "dem.plot()"
   ]
  },
  {
   "cell_type": "markdown",
   "id": "c22ba9fb-d941-4564-8c39-6943c44aab0a",
   "metadata": {},
   "source": [
    "## Terrain attributes visualization\n",
    "Below are key terrain attributes derived from the Digital Elevation Model (DEM), including slope and roughness. These attributes will be used in later analyses to better understand the use of the `xdem` package for classification."
   ]
  },
  {
   "cell_type": "markdown",
   "id": "1cad7710-c792-4cf0-b36f-f946059939c3",
   "metadata": {},
   "source": [
    "### 1. Slope\n",
    "Slope measures the steepness of the terrain and is expressed in degrees. Steeper slopes have higher values, while flat areas have lower values."
   ]
  },
  {
   "cell_type": "code",
   "execution_count": null,
   "id": "c9547c49-0601-4fe1-982c-7de90b4b1358",
   "metadata": {},
   "outputs": [],
   "source": [
    "slope = dem.slope()\n",
    "slope.plot(cmap=\"Reds\", cbar_title= \"Slope (°)\")"
   ]
  },
  {
   "cell_type": "markdown",
   "id": "075cb637-9c21-429b-9c87-be8bd19f64c5",
   "metadata": {},
   "source": [
    "### 2 Roughness\n",
    "Roughness quantifies the irregularity of the terrain by comparing the elevation changes between adjacent pixels. Higher roughness values indicate more uneven terrain."
   ]
  },
  {
   "cell_type": "code",
   "execution_count": null,
   "id": "4070fa1a-05f5-453b-9de7-d2cc52b14076",
   "metadata": {},
   "outputs": [],
   "source": [
    "roughness = dem.roughness()\n",
    "roughness.plot(cmap=\"Oranges\", cbar_title=\"Roughness\")"
   ]
  },
  {
   "cell_type": "markdown",
   "id": "cb725a46-ba00-4e13-bf8d-4558058e591a",
   "metadata": {},
   "source": [
    "## Classification of Terrain Attributes\n",
    "Classification of Terrain attributes is an essential step for segmenting landscapes based on specific criteria, such as slope or roughness classes. By classifying these attributes into different categories, we can better understand the geographical features of an area.\n",
    "\n",
    "In this section, we will demonstrate how to use `xdem` to classify terrain attributes like slope, roughness, and other calculated attributes."
   ]
  },
  {
   "cell_type": "markdown",
   "id": "a70b87cb-9117-4431-be24-901f0ab88515",
   "metadata": {},
   "source": [
    "### 1. Elevation classification"
   ]
  },
  {
   "cell_type": "code",
   "execution_count": null,
   "id": "194e4e41-44bf-4d69-b27c-10d7fc55dbd3",
   "metadata": {},
   "outputs": [],
   "source": [
    "# Define intervals for elevation classes\n",
    "# Example: [0-400m], [400-800m], [+800m]\n",
    "elevation_bins = [0, 400, 800, np.inf] \n",
    "\n",
    "# Apply classification\n",
    "elevation_classes = np.digitize(dem.data, elevation_bins)\n",
    "\n",
    "# Save classification\n",
    "elevation_classes_raster = dem.copy(new_array=elevation_classes)\n",
    "elevation_classes_raster.save('elevation_classes.tif')"
   ]
  },
  {
   "cell_type": "code",
   "execution_count": null,
   "id": "e4bee1fa-be1c-4238-8518-fb17fa95df07",
   "metadata": {},
   "outputs": [],
   "source": [
    "# Plot\n",
    "# Colormap configuration\n",
    "colors = np.array([\n",
    "    [0, 0, 1, 1],      # blue for class 1\n",
    "    [0, 1, 0, 1],      # green for class 2\n",
    "    [1, 1, 0, 1],      # yellow for class 3\n",
    "])\n",
    "cmap = ListedColormap(colors)\n",
    "\n",
    "# Visualize classified elevation\n",
    "elevation_classes_raster.plot(cmap=cmap, cbar_title=\"Elevation (m)\")"
   ]
  },
  {
   "cell_type": "markdown",
   "id": "cd6592e4-f134-4311-b2ad-f62fa2b6de0d",
   "metadata": {},
   "source": [
    "### 2. Slope classification"
   ]
  },
  {
   "cell_type": "code",
   "execution_count": null,
   "id": "dad5eff9-d8f3-4697-8d84-a663d1def50e",
   "metadata": {},
   "outputs": [],
   "source": [
    "# Define intervals for slope classes\n",
    "# Example: [0-5°], [5-10°], [10-25°], [25-45°], [>45°]\n",
    "slope_bins = [0, 5, 10, 25, 45, np.inf]\n",
    "\n",
    "# Apply classification\n",
    "slope_classes = np.digitize(slope.data, slope_bins)\n",
    "\n",
    "# Save classification\n",
    "slope_classes_raster = dem.copy(new_array=slope_classes)\n",
    "slope_classes_raster.save('slope_classes.tif')"
   ]
  },
  {
   "cell_type": "code",
   "execution_count": null,
   "id": "df532e5c-bcc8-4757-8333-f570f226720b",
   "metadata": {},
   "outputs": [],
   "source": [
    "# Plot\n",
    "# Colormap configuration\n",
    "colors = np.array([\n",
    "    [0, 0, 1, 1],      # blue for class 1\n",
    "    [0, 1, 0, 1],      # green for class 2\n",
    "    [1, 1, 0, 1],      # yellow for class 3\n",
    "    [1, 0.5, 0, 1],    # orange for class 4\n",
    "    [1, 0, 0, 1]       # red for class 5\n",
    "])\n",
    "cmap = ListedColormap(colors)\n",
    "\n",
    "# Visualize classified slope\n",
    "slope_classes_raster.plot(cmap=cmap, cbar_title=\"Slope Classes\")"
   ]
  },
  {
   "cell_type": "markdown",
   "id": "9b444b69-d868-4e09-93a8-47112b4cd576",
   "metadata": {},
   "source": [
    "### 3. Roughness Classification"
   ]
  },
  {
   "cell_type": "code",
   "execution_count": null,
   "id": "42919a42-b708-4e51-8eae-c9337b325e23",
   "metadata": {
    "scrolled": true
   },
   "outputs": [],
   "source": [
    "# Define intervals for roughness classes\n",
    "# Example: flat to slightly rough, moderately rough, highly rough, very chaotic\n",
    "roughness_bins = [0, 10, 20, 30, np.inf]  # np.inf to capture the highest values\n",
    "\n",
    "# Classify roughness\n",
    "roughness_classes = np.digitize(roughness.data, roughness_bins)\n",
    "\n",
    "# Save classification\n",
    "roughness_classes_raster = dem.copy(new_array=roughness_classes)\n",
    "roughness_classes_raster.save('roughness_classes.tif')"
   ]
  },
  {
   "cell_type": "code",
   "execution_count": null,
   "id": "b95b3a60-696d-48ff-86c7-8ec2b1592366",
   "metadata": {
    "scrolled": true
   },
   "outputs": [],
   "source": [
    "# Plot\n",
    "# Colormap configuration\n",
    "colors = np.array([\n",
    "    [0, 1, 0, 1],      # green for class 1\n",
    "    [1, 1, 0, 1],      # yellow for class 2\n",
    "    [1, 0.5, 0, 1],    # orange for class 3\n",
    "    [1, 0, 0, 1]       # red for class 4\n",
    "])\n",
    "cmap = ListedColormap(colors)\n",
    "\n",
    "# Visualize classified roughness\n",
    "roughness_classes_raster.plot(cmap=cmap, cbar_title=\"Roughness Classes\")"
   ]
  },
  {
   "cell_type": "markdown",
   "id": "8cc5a0ba-2a86-4937-b077-7185c57b8c09",
   "metadata": {},
   "source": [
    "## Masking in Terrain Analysis\n",
    "In terrain analysis, masks are often used to focus on specific areas of interest within a Digital Elevation Model (DEM).\n",
    "\n",
    "In this notebook, we will explore how classification masks can be applied to terrain attributes computed from DEMs using the `xdem` package. The mask allows us to isolate certain regions of the landscape and apply classification techniques only within those regions. This is useful for focusing on areas with specific characteristics—such as a particular elevation range, slope, or roughness—that are relevant to a given study or analysis."
   ]
  },
  {
   "cell_type": "markdown",
   "id": "fa57e78e-7228-4c70-a706-07a5204c779a",
   "metadata": {},
   "source": [
    "### 1. Elevation mask"
   ]
  },
  {
   "cell_type": "code",
   "execution_count": null,
   "id": "d4658bd3-99e2-49ca-8228-c8a42ab93949",
   "metadata": {},
   "outputs": [],
   "source": [
    "# Load the mask using geoutils (We use the elevation classes computed before)\n",
    "elevation_classes = gu.Raster('elevation_classes.tif')\n",
    "\n",
    "# Convert the mask into Boolean arrays\n",
    "# For exemple we want to focus on the highests regions of the DEM (+400m, classes 2 and 3).\n",
    "boolean_elevation_mask = np.where(elevation_classes.data >= 2, False, True)\n",
    "\n",
    "# Apply mask\n",
    "masked_elevation_dem = dem.copy()\n",
    "masked_elevation_dem.set_mask(boolean_elevation_mask)\n",
    "\n",
    "# Plot\n",
    "masked_elevation_dem.plot(cbar_title = \"Elevation (m)\")"
   ]
  },
  {
   "cell_type": "markdown",
   "id": "9c21c319-6766-4bbd-b856-52cc636a1bf1",
   "metadata": {},
   "source": [
    "### 2. Slope mask"
   ]
  },
  {
   "cell_type": "code",
   "execution_count": null,
   "id": "84ce012c-db07-4461-bded-924ba3cf5262",
   "metadata": {},
   "outputs": [],
   "source": [
    "# Load the mask using geoutils (We use the slope classes computed before)\n",
    "slope_classes = gu.Raster('slope_classes.tif')\n",
    "\n",
    "# Convert the mask into Boolean arrays\n",
    "# For exemple we want to focus on the flattest regions of the DEM (0-5°, class 1).\n",
    "boolean_slope_mask = np.where(slope_classes.data == 1, False, True)\n",
    "\n",
    "# Apply mask\n",
    "masked_slope_dem = dem.copy()\n",
    "masked_slope_dem.set_mask(boolean_slope_mask)\n",
    "\n",
    "# Plot\n",
    "masked_slope_dem.plot(cbar_title=\"Elevation (m)\")"
   ]
  },
  {
   "cell_type": "markdown",
   "id": "2888d228-f070-45a6-9f72-d97205229bbc",
   "metadata": {},
   "source": [
    "### 3. Roughness mask"
   ]
  },
  {
   "cell_type": "code",
   "execution_count": null,
   "id": "843f89fa-bad3-4d77-a871-ff53765f4488",
   "metadata": {},
   "outputs": [],
   "source": [
    "# Load the mask using geoutils (We use the roughness classes computed before)\n",
    "roughness_classes = gu.Raster('roughness_classes.tif')\n",
    "\n",
    "# Convert the mask into Boolean arrays\n",
    "# For exemple we want to focus on the roughest regions of the DEM (class 4).\n",
    "boolean_roughness_mask = np.where(roughness_classes.data == 4, False, True)\n",
    "\n",
    "# Apply mask\n",
    "masked_roughness_dem = dem.copy()\n",
    "masked_roughness_dem.set_mask(boolean_roughness_mask)\n",
    "\n",
    "# Plot\n",
    "masked_roughness_dem.plot(cbar_title=\"Elevation (m)\")"
   ]
  },
  {
   "cell_type": "markdown",
   "id": "1daaa9ef-59f4-4f23-9745-75e7fa665a8b",
   "metadata": {},
   "source": [
    "### 4. Intersecting mask"
   ]
  },
  {
   "cell_type": "code",
   "execution_count": null,
   "id": "8da6a4d9-1125-4efc-b37f-7ed4b4ee0be6",
   "metadata": {},
   "outputs": [],
   "source": [
    "# For exemple we want to focus on the highests and flattests regions of the DEM (+400m, 0-5°).\n",
    "# Apply masks\n",
    "masked_intersect_dem = dem.copy()\n",
    "masked_intersect_dem.set_mask(boolean_elevation_mask)  # Apply elevation mask\n",
    "masked_intersect_dem.set_mask(boolean_slope_mask)  # Apply slope mask\n",
    "\n",
    "# Plot\n",
    "masked_intersect_dem.plot(cbar_title=\"Elevation (m)\")"
   ]
  },
  {
   "cell_type": "markdown",
   "id": "122e6188-29a2-45ff-9174-6cdaf2cd6412",
   "metadata": {},
   "source": [
    "## Terrain Metrics\n",
    "In addition to visualizing and classifying terrain attributes, it is possible to compute a range of **terrain metrics** using the `xdem` package. These merics can be calculated both across the entire DEM or within specific classified regions or masked areas, providing flexibility for detailed analysis.\n",
    "\n",
    "Some of the key metrics we will explore include:\n",
    "\n",
    "**1. Mean:** The average value of a given terrain attribute (e.g., slope, roughness), providing a general sense of the landscape's characteristics.\n",
    "\n",
    "**2. Median:** The middle value when all values are sorted, offering insight into the central tendency of the landscape, less affected by extreme values than the mean.\n",
    "\n",
    "**2. Standard Deviation:** A common measure of the spread of values in the dataset, indicating how much variation exists from the mean.\n",
    "\n",
    "**3. NMAD (Normalized Median Absolute Deviation):** A robust measure of variability or dispersion that is less sensitive to outliers compared to standard deviation, making it ideal for analyzing irregular terrains.\n",
    "\n",
    "**4. Min/Max Values:** The minimum and maximum values of a terrain attribute, which can highlight extremes in the landscape, such as the steepest slopes or highest elevations."
   ]
  },
  {
   "cell_type": "code",
   "execution_count": null,
   "id": "12ea3892-7eef-4429-8e33-2cebab4d3a57",
   "metadata": {},
   "outputs": [],
   "source": [
    "# metrics functions\n",
    "def metrics(raster):\n",
    "    nmad = xdem.spatialstats.nmad(raster)\n",
    "    raster.info(stats=True)  # max, min, median, mean and std are already computed in dem object\n",
    "    print('[NMAD]: ', nmad)\n",
    "    \n",
    "masked_dem = masked_elevation_dem  # try with masked_elevation_dem, masked_slope_dem, masked_roughness_dem"
   ]
  },
  {
   "cell_type": "code",
   "execution_count": null,
   "id": "b60b054f-c525-4bb7-8161-c52264f364fc",
   "metadata": {},
   "outputs": [],
   "source": [
    "# Original DEM\n",
    "metrics(dem)"
   ]
  },
  {
   "cell_type": "code",
   "execution_count": null,
   "id": "f65a8ec9-70d8-4f9f-b381-5cb2a456a39e",
   "metadata": {},
   "outputs": [],
   "source": [
    "# Masked DEM\n",
    "metrics(masked_dem)"
   ]
  },
  {
   "cell_type": "code",
   "execution_count": null,
   "id": "2845685d-9d5e-4b5f-b40e-d705a718d9e7",
   "metadata": {},
   "outputs": [],
   "source": [
    "# Double masked DEM\n",
    "metrics(masked_intersect_dem)"
   ]
  },
  {
   "cell_type": "code",
   "execution_count": null,
   "id": "770b1eb8-4ea0-4097-8e22-53f0c344fc22",
   "metadata": {},
   "outputs": [],
   "source": [
    "# Original DEM slope\n",
    "metrics(slope)"
   ]
  },
  {
   "cell_type": "code",
   "execution_count": null,
   "id": "16aa824d-f15d-4d5b-88b9-cbf1a9b17cc1",
   "metadata": {},
   "outputs": [],
   "source": [
    "# Masked DEM slope\n",
    "metrics(masked_dem.slope())"
   ]
  },
  {
   "cell_type": "code",
   "execution_count": null,
   "id": "4acaabd4-ae23-4858-b170-35bffbb10b6a",
   "metadata": {},
   "outputs": [],
   "source": [
    "# Double masked DEM slope\n",
    "metrics(masked_intersect_dem.slope())"
   ]
  },
  {
   "cell_type": "code",
   "execution_count": null,
   "id": "e0c51f44-3c85-461b-aa86-e224b4715321",
   "metadata": {},
   "outputs": [],
   "source": [
    "# Original DEM roughness\n",
    "metrics(roughness)"
   ]
  },
  {
   "cell_type": "code",
   "execution_count": null,
   "id": "d29fd684-4d9b-4aba-ba83-8b20dc31d84f",
   "metadata": {},
   "outputs": [],
   "source": [
    "# Masked DEM roughness\n",
    "metrics(masked_dem.roughness())"
   ]
  },
  {
   "cell_type": "code",
   "execution_count": null,
   "id": "7e6f009c-35fe-4952-bc4d-c0dbba36f778",
   "metadata": {},
   "outputs": [],
   "source": [
    "# Double masked DEM roughness\n",
    "metrics(masked_intersect_dem.roughness())"
   ]
  }
 ],
 "metadata": {
  "kernelspec": {
   "display_name": "Python 3 (ipykernel)",
   "language": "python",
   "name": "python3"
  },
  "language_info": {
   "codemirror_mode": {
    "name": "ipython",
    "version": 3
   },
   "file_extension": ".py",
   "mimetype": "text/x-python",
   "name": "python",
   "nbconvert_exporter": "python",
   "pygments_lexer": "ipython3",
   "version": "3.10.12"
  }
 },
 "nbformat": 4,
 "nbformat_minor": 5
}
